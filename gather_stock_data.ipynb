{
 "cells": [
  {
   "cell_type": "code",
   "execution_count": 3,
   "source": [
    "import yfinance as yf"
   ],
   "outputs": [],
   "metadata": {}
  },
  {
   "cell_type": "code",
   "execution_count": 11,
   "source": [
    "tickerSymbol = 'MSFT'\r\n",
    "\r\n",
    "ticker = yf.Ticker(tickerSymbol)\r\n",
    "tickerDf = ticker.history(interval='1d', start='2010-1-1', end='2020-1-25')\r\n",
    "\r\n",
    "print(tickerDf)"
   ],
   "outputs": [
    {
     "output_type": "stream",
     "name": "stdout",
     "text": [
      "                  Open        High         Low       Close    Volume  \\\n",
      "Date                                                                   \n",
      "2009-12-31   23.971933   23.979671   23.585039   23.585039  31929700   \n",
      "2010-01-04   23.693367   24.064785   23.670153   23.948717  38409100   \n",
      "2010-01-05   23.871338   24.064785   23.708842   23.956453  49749600   \n",
      "2010-01-06   23.894550   24.049309   23.615988   23.809435  58182400   \n",
      "2010-01-07   23.701101   23.755268   23.360636   23.561821  50559700   \n",
      "...                ...         ...         ...         ...       ...   \n",
      "2020-01-17  164.588475  164.637633  162.632126  164.273895  34371700   \n",
      "2020-01-21  163.860969  165.345441  163.615198  163.684021  29517200   \n",
      "2020-01-22  164.568798  164.657287  162.877887  162.897552  24138800   \n",
      "2020-01-23  163.379264  163.978948  162.474826  163.900299  19680800   \n",
      "2020-01-24  164.676945  164.696611  161.668700  162.248718  24918100   \n",
      "\n",
      "            Dividends  Stock Splits  \n",
      "Date                                 \n",
      "2009-12-31        0.0             0  \n",
      "2010-01-04        0.0             0  \n",
      "2010-01-05        0.0             0  \n",
      "2010-01-06        0.0             0  \n",
      "2010-01-07        0.0             0  \n",
      "...               ...           ...  \n",
      "2020-01-17        0.0             0  \n",
      "2020-01-21        0.0             0  \n",
      "2020-01-22        0.0             0  \n",
      "2020-01-23        0.0             0  \n",
      "2020-01-24        0.0             0  \n",
      "\n",
      "[2533 rows x 7 columns]\n"
     ]
    }
   ],
   "metadata": {}
  },
  {
   "cell_type": "code",
   "execution_count": null,
   "source": [],
   "outputs": [],
   "metadata": {}
  }
 ],
 "metadata": {
  "orig_nbformat": 4,
  "language_info": {
   "name": "python",
   "version": "3.8.10",
   "mimetype": "text/x-python",
   "codemirror_mode": {
    "name": "ipython",
    "version": 3
   },
   "pygments_lexer": "ipython3",
   "nbconvert_exporter": "python",
   "file_extension": ".py"
  },
  "kernelspec": {
   "name": "python3",
   "display_name": "Python 3.8.10 64-bit"
  },
  "interpreter": {
   "hash": "1baa965d5efe3ac65b79dfc60c0d706280b1da80fedb7760faf2759126c4f253"
  }
 },
 "nbformat": 4,
 "nbformat_minor": 2
}